{
  "nbformat": 4,
  "nbformat_minor": 0,
  "metadata": {
    "colab": {
      "provenance": [],
      "authorship_tag": "ABX9TyP2/LWBuGfaBoMieBowkb0o",
      "include_colab_link": true
    },
    "kernelspec": {
      "name": "python3",
      "display_name": "Python 3"
    },
    "language_info": {
      "name": "python"
    },
    "widgets": {
      "application/vnd.jupyter.widget-state+json": {
        "90a59d7e55d94e05a29aab2011e96428": {
          "model_module": "@jupyter-widgets/controls",
          "model_name": "TextModel",
          "model_module_version": "1.5.0",
          "state": {
            "_dom_classes": [],
            "_model_module": "@jupyter-widgets/controls",
            "_model_module_version": "1.5.0",
            "_model_name": "TextModel",
            "_view_count": null,
            "_view_module": "@jupyter-widgets/controls",
            "_view_module_version": "1.5.0",
            "_view_name": "TextView",
            "continuous_update": true,
            "description": "Prompt:",
            "description_tooltip": null,
            "disabled": false,
            "layout": "IPY_MODEL_cba4c30545a44f7285543f6e7c4de31a",
            "placeholder": "Type your prompt here...",
            "style": "IPY_MODEL_99b0e94120854410bf416510a737bfa4",
            "value": "Who is. president of canada?"
          }
        },
        "cba4c30545a44f7285543f6e7c4de31a": {
          "model_module": "@jupyter-widgets/base",
          "model_name": "LayoutModel",
          "model_module_version": "1.2.0",
          "state": {
            "_model_module": "@jupyter-widgets/base",
            "_model_module_version": "1.2.0",
            "_model_name": "LayoutModel",
            "_view_count": null,
            "_view_module": "@jupyter-widgets/base",
            "_view_module_version": "1.2.0",
            "_view_name": "LayoutView",
            "align_content": null,
            "align_items": null,
            "align_self": null,
            "border": null,
            "bottom": null,
            "display": null,
            "flex": null,
            "flex_flow": null,
            "grid_area": null,
            "grid_auto_columns": null,
            "grid_auto_flow": null,
            "grid_auto_rows": null,
            "grid_column": null,
            "grid_gap": null,
            "grid_row": null,
            "grid_template_areas": null,
            "grid_template_columns": null,
            "grid_template_rows": null,
            "height": null,
            "justify_content": null,
            "justify_items": null,
            "left": null,
            "margin": null,
            "max_height": null,
            "max_width": null,
            "min_height": null,
            "min_width": null,
            "object_fit": null,
            "object_position": null,
            "order": null,
            "overflow": null,
            "overflow_x": null,
            "overflow_y": null,
            "padding": null,
            "right": null,
            "top": null,
            "visibility": null,
            "width": null
          }
        },
        "99b0e94120854410bf416510a737bfa4": {
          "model_module": "@jupyter-widgets/controls",
          "model_name": "DescriptionStyleModel",
          "model_module_version": "1.5.0",
          "state": {
            "_model_module": "@jupyter-widgets/controls",
            "_model_module_version": "1.5.0",
            "_model_name": "DescriptionStyleModel",
            "_view_count": null,
            "_view_module": "@jupyter-widgets/base",
            "_view_module_version": "1.2.0",
            "_view_name": "StyleView",
            "description_width": ""
          }
        },
        "e2ed686a41914542a096c40ddd44cae4": {
          "model_module": "@jupyter-widgets/output",
          "model_name": "OutputModel",
          "model_module_version": "1.0.0",
          "state": {
            "_dom_classes": [],
            "_model_module": "@jupyter-widgets/output",
            "_model_module_version": "1.0.0",
            "_model_name": "OutputModel",
            "_view_count": null,
            "_view_module": "@jupyter-widgets/output",
            "_view_module_version": "1.0.0",
            "_view_name": "OutputView",
            "layout": "IPY_MODEL_fd5b1a42af144b12bc130eb3477684af",
            "msg_id": "",
            "outputs": [
              {
                "output_type": "stream",
                "name": "stdout",
                "text": [
                  "I think there may be a bit of confusion here!\n",
                  "Canada does not have a president, it has a monarch\n",
                  "as its head of state, which is currently Queen\n",
                  "Elizabeth II. However, the Queen is represented in\n",
                  "Canada by the Governor General, who is appointed\n",
                  "by the Queen on the advice of the Canadian Prime\n",
                  "Minister.  The current Governor General of Canada\n",
                  "is Mary Simon, who was appointed on July 26, 2021.\n",
                  "As for the Prime Minister of Canada, the current\n",
                  "holder of the office is Justin Trudeau, who has\n",
                  "been in office since November 4, 2015.\n"
                ]
              }
            ]
          }
        },
        "fd5b1a42af144b12bc130eb3477684af": {
          "model_module": "@jupyter-widgets/base",
          "model_name": "LayoutModel",
          "model_module_version": "1.2.0",
          "state": {
            "_model_module": "@jupyter-widgets/base",
            "_model_module_version": "1.2.0",
            "_model_name": "LayoutModel",
            "_view_count": null,
            "_view_module": "@jupyter-widgets/base",
            "_view_module_version": "1.2.0",
            "_view_name": "LayoutView",
            "align_content": null,
            "align_items": null,
            "align_self": null,
            "border": null,
            "bottom": null,
            "display": null,
            "flex": null,
            "flex_flow": null,
            "grid_area": null,
            "grid_auto_columns": null,
            "grid_auto_flow": null,
            "grid_auto_rows": null,
            "grid_column": null,
            "grid_gap": null,
            "grid_row": null,
            "grid_template_areas": null,
            "grid_template_columns": null,
            "grid_template_rows": null,
            "height": null,
            "justify_content": null,
            "justify_items": null,
            "left": null,
            "margin": null,
            "max_height": null,
            "max_width": null,
            "min_height": null,
            "min_width": null,
            "object_fit": null,
            "object_position": null,
            "order": null,
            "overflow": null,
            "overflow_x": null,
            "overflow_y": null,
            "padding": null,
            "right": null,
            "top": null,
            "visibility": null,
            "width": null
          }
        },
        "81bbe96ee61d487f895ca7a625a1b919": {
          "model_module": "@jupyter-widgets/controls",
          "model_name": "TextModel",
          "model_module_version": "1.5.0",
          "state": {
            "_dom_classes": [],
            "_model_module": "@jupyter-widgets/controls",
            "_model_module_version": "1.5.0",
            "_model_name": "TextModel",
            "_view_count": null,
            "_view_module": "@jupyter-widgets/controls",
            "_view_module_version": "1.5.0",
            "_view_name": "TextView",
            "continuous_update": true,
            "description": "Prompt:",
            "description_tooltip": null,
            "disabled": false,
            "layout": "IPY_MODEL_33b6a571ab6941af868e193dd669dcbc",
            "placeholder": "Type your prompt here...",
            "style": "IPY_MODEL_312050c8341841f6b0f8fcb32df005cf",
            "value": "who was. the best baseball player. of all time?"
          }
        },
        "33b6a571ab6941af868e193dd669dcbc": {
          "model_module": "@jupyter-widgets/base",
          "model_name": "LayoutModel",
          "model_module_version": "1.2.0",
          "state": {
            "_model_module": "@jupyter-widgets/base",
            "_model_module_version": "1.2.0",
            "_model_name": "LayoutModel",
            "_view_count": null,
            "_view_module": "@jupyter-widgets/base",
            "_view_module_version": "1.2.0",
            "_view_name": "LayoutView",
            "align_content": null,
            "align_items": null,
            "align_self": null,
            "border": null,
            "bottom": null,
            "display": null,
            "flex": null,
            "flex_flow": null,
            "grid_area": null,
            "grid_auto_columns": null,
            "grid_auto_flow": null,
            "grid_auto_rows": null,
            "grid_column": null,
            "grid_gap": null,
            "grid_row": null,
            "grid_template_areas": null,
            "grid_template_columns": null,
            "grid_template_rows": null,
            "height": null,
            "justify_content": null,
            "justify_items": null,
            "left": null,
            "margin": null,
            "max_height": null,
            "max_width": null,
            "min_height": null,
            "min_width": null,
            "object_fit": null,
            "object_position": null,
            "order": null,
            "overflow": null,
            "overflow_x": null,
            "overflow_y": null,
            "padding": null,
            "right": null,
            "top": null,
            "visibility": null,
            "width": null
          }
        },
        "312050c8341841f6b0f8fcb32df005cf": {
          "model_module": "@jupyter-widgets/controls",
          "model_name": "DescriptionStyleModel",
          "model_module_version": "1.5.0",
          "state": {
            "_model_module": "@jupyter-widgets/controls",
            "_model_module_version": "1.5.0",
            "_model_name": "DescriptionStyleModel",
            "_view_count": null,
            "_view_module": "@jupyter-widgets/base",
            "_view_module_version": "1.2.0",
            "_view_name": "StyleView",
            "description_width": ""
          }
        },
        "d535879e08b54286bbfee08b0a36c311": {
          "model_module": "@jupyter-widgets/controls",
          "model_name": "TextareaModel",
          "model_module_version": "1.5.0",
          "state": {
            "_dom_classes": [],
            "_model_module": "@jupyter-widgets/controls",
            "_model_module_version": "1.5.0",
            "_model_name": "TextareaModel",
            "_view_count": null,
            "_view_module": "@jupyter-widgets/controls",
            "_view_module_version": "1.5.0",
            "_view_name": "TextareaView",
            "continuous_update": true,
            "description": "Response:",
            "description_tooltip": null,
            "disabled": true,
            "layout": "IPY_MODEL_b0ce67459fbd454284adc484f1748d2c",
            "placeholder": "Response will appear here...",
            "rows": null,
            "style": "IPY_MODEL_0e7ddd736ee64f179d1af98f8d973cc0",
            "value": "The answer, of course, is subjective and often\nsparks debate among baseball fans. However,\naccording to various polls, awards, and\nstatistical analyses, here are some of the most\ncommonly cited candidates for the title of the\nbest baseball player of all time:  1. Babe Ruth\n(1920-1935): Considered by many to be the greatest\nbaseball player of all time, Ruth set numerous\nrecords for home runs, including the single-season\nmark of 60 homers in 1927. He won four World\nSeries championships and was a seven-time pennant\nwinner. 2. Willie Mays (1951-1973): Known as \"The\nSay Hey Kid,\" Mays is a five-tool player who\nexcelled in hitting, fielding, throwing, running,\nand power. He won two MVP awards, 12 Gold Glove\nAwards, and was a 24-time All-Star. 3. Hank Aaron\n(1954-1976): Aaron broke Ruth's home run record in\n1974, finishing his career with 755 homers. He was\na three-time MVP, 25-time All-Star, and won two\nGold Glove Awards. 4. Mickey Mantle (1951-1969):\nMantle was a power-hitting center fielder who won\nseven championships with the New York Yankees. He\nwas a three-time MVP, 20-time All-Star, and won\nfive Gold Glove Awards. 5. Barry Bonds\n(1986-2007): Bonds holds the all-time home run\nrecord with 762, winning seven MVP awards in the\nprocess. He was a 14-time All-Star and won eight\nGold Glove Awards. 6. Ted Williams (1939-1960):\nWilliams was a two-time MVP and 17-time All-Star,\nknown for his impressive hitting and defense. He\nwon two Triple Crowns and was a key member of the\nBoston Red Sox's 1946 World Series team. 7. Joe\nDiMaggio (1936-1951): DiMaggio was a 13-time All-\nStar and four-time World Series champion, known\nfor his 56-game hitting streak in 1941. He was a\nthree-time MVP and won nine Gold Glove Awards. 8.\nStan Musial (1941-1963): Musial was a three-time\nWorld Series champion and seven-time MVP, known\nfor his impressive hitting and fielding. He was a\n24-time All-Star and won seven Gold Glove Awards.\n9. Alex Rodriguez (1994-2016): A-Rod is one of the\ngreatest players of the modern era, with 696 home\nruns and 14 All-Star appearances. He won two MVP\nawards and 10 Gold Glove Awards. 10. Mike Trout\n(2011-present): Trout is widely regarded as the\nbest player in baseball today, with three MVP\nawards and 10 All-Star appearances. He has led the\nleague in several categories, including batting\naverage, runs scored, and WAR (Wins Above\nReplacement).  Of course, there are many other\ngreat baseball players who could be considered the\nbest of all time. Ultimately, the answer depends\non individual perspectives and criteria for\nevaluation."
          }
        },
        "b0ce67459fbd454284adc484f1748d2c": {
          "model_module": "@jupyter-widgets/base",
          "model_name": "LayoutModel",
          "model_module_version": "1.2.0",
          "state": {
            "_model_module": "@jupyter-widgets/base",
            "_model_module_version": "1.2.0",
            "_model_name": "LayoutModel",
            "_view_count": null,
            "_view_module": "@jupyter-widgets/base",
            "_view_module_version": "1.2.0",
            "_view_name": "LayoutView",
            "align_content": null,
            "align_items": null,
            "align_self": null,
            "border": null,
            "bottom": null,
            "display": null,
            "flex": null,
            "flex_flow": null,
            "grid_area": null,
            "grid_auto_columns": null,
            "grid_auto_flow": null,
            "grid_auto_rows": null,
            "grid_column": null,
            "grid_gap": null,
            "grid_row": null,
            "grid_template_areas": null,
            "grid_template_columns": null,
            "grid_template_rows": null,
            "height": "200px",
            "justify_content": null,
            "justify_items": null,
            "left": null,
            "margin": null,
            "max_height": null,
            "max_width": null,
            "min_height": null,
            "min_width": null,
            "object_fit": null,
            "object_position": null,
            "order": null,
            "overflow": null,
            "overflow_x": null,
            "overflow_y": null,
            "padding": null,
            "right": null,
            "top": null,
            "visibility": null,
            "width": "100%"
          }
        },
        "0e7ddd736ee64f179d1af98f8d973cc0": {
          "model_module": "@jupyter-widgets/controls",
          "model_name": "DescriptionStyleModel",
          "model_module_version": "1.5.0",
          "state": {
            "_model_module": "@jupyter-widgets/controls",
            "_model_module_version": "1.5.0",
            "_model_name": "DescriptionStyleModel",
            "_view_count": null,
            "_view_module": "@jupyter-widgets/base",
            "_view_module_version": "1.2.0",
            "_view_name": "StyleView",
            "description_width": ""
          }
        },
        "fad071982ff447b2a3214284c099b333": {
          "model_module": "@jupyter-widgets/controls",
          "model_name": "TextModel",
          "model_module_version": "1.5.0",
          "state": {
            "_dom_classes": [],
            "_model_module": "@jupyter-widgets/controls",
            "_model_module_version": "1.5.0",
            "_model_name": "TextModel",
            "_view_count": null,
            "_view_module": "@jupyter-widgets/controls",
            "_view_module_version": "1.5.0",
            "_view_name": "TextView",
            "continuous_update": true,
            "description": "Prompt:",
            "description_tooltip": null,
            "disabled": false,
            "layout": "IPY_MODEL_00ae1ba2a26a4e0fac03e39c1a0021e4",
            "placeholder": "Type your prompt here...",
            "style": "IPY_MODEL_6193e8863caf46fd95dc169633f451a8",
            "value": "What are the best places to retire to in 2030?"
          }
        },
        "00ae1ba2a26a4e0fac03e39c1a0021e4": {
          "model_module": "@jupyter-widgets/base",
          "model_name": "LayoutModel",
          "model_module_version": "1.2.0",
          "state": {
            "_model_module": "@jupyter-widgets/base",
            "_model_module_version": "1.2.0",
            "_model_name": "LayoutModel",
            "_view_count": null,
            "_view_module": "@jupyter-widgets/base",
            "_view_module_version": "1.2.0",
            "_view_name": "LayoutView",
            "align_content": null,
            "align_items": null,
            "align_self": null,
            "border": null,
            "bottom": null,
            "display": null,
            "flex": null,
            "flex_flow": null,
            "grid_area": null,
            "grid_auto_columns": null,
            "grid_auto_flow": null,
            "grid_auto_rows": null,
            "grid_column": null,
            "grid_gap": null,
            "grid_row": null,
            "grid_template_areas": null,
            "grid_template_columns": null,
            "grid_template_rows": null,
            "height": null,
            "justify_content": null,
            "justify_items": null,
            "left": null,
            "margin": null,
            "max_height": null,
            "max_width": null,
            "min_height": null,
            "min_width": null,
            "object_fit": null,
            "object_position": null,
            "order": null,
            "overflow": null,
            "overflow_x": null,
            "overflow_y": null,
            "padding": null,
            "right": null,
            "top": null,
            "visibility": null,
            "width": null
          }
        },
        "6193e8863caf46fd95dc169633f451a8": {
          "model_module": "@jupyter-widgets/controls",
          "model_name": "DescriptionStyleModel",
          "model_module_version": "1.5.0",
          "state": {
            "_model_module": "@jupyter-widgets/controls",
            "_model_module_version": "1.5.0",
            "_model_name": "DescriptionStyleModel",
            "_view_count": null,
            "_view_module": "@jupyter-widgets/base",
            "_view_module_version": "1.2.0",
            "_view_name": "StyleView",
            "description_width": ""
          }
        },
        "327df8f588624262825078a57e114257": {
          "model_module": "@jupyter-widgets/output",
          "model_name": "OutputModel",
          "model_module_version": "1.0.0",
          "state": {
            "_dom_classes": [],
            "_model_module": "@jupyter-widgets/output",
            "_model_module_version": "1.0.0",
            "_model_name": "OutputModel",
            "_view_count": null,
            "_view_module": "@jupyter-widgets/output",
            "_view_module_version": "1.0.0",
            "_view_name": "OutputView",
            "layout": "IPY_MODEL_71d4bee8cb3049c6a0b1f21248042617",
            "msg_id": "",
            "outputs": [
              {
                "output_type": "display_data",
                "data": {
                  "text/plain": "<IPython.core.display.Markdown object>",
                  "text/markdown": "Retirement planning for 2030 is already underway\nfor many people! While it's impossible to predict\nthe future with certainty, I can give you some\ninsights on popular and promising retirement\ndestinations based on various factors such as cost\nof living, quality of life, healthcare, and\ndesirability. Here are some top contenders to\nconsider for 2030:  1. **Portugal**: Known for its\nmild climate, beautiful beaches, and low cost of\nliving, Portugal is a popular choice for retirees.\nThe country offers a \"Golden Visa\" program, which\nprovides a path to residency and citizenship. 2.\n**Mexico**: Mexico offers a warm climate, rich\nculture, and a relatively low cost of living.\nPopular retirement destinations include Puerto\nVallarta, San Miguel de Allende, and Lake Chapala.\n3. **Costa Rica**: With its lush rainforests,\nexotic wildlife, and beautiful beaches, Costa Rica\nis a nature lover's paradise. The country offers a\npensionado visa program, which provides discounts\nand incentives for retirees. 4. **Thailand**:\nThailand is a popular destination for digital\nnomads and retirees, with its warm climate, rich\nculture, and affordable cost of living. Chiang Mai\nis a hub for expats, with a thriving community and\nmodern amenities. 5. **Panama**: Panama offers a\npensionado visa program, which provides discounts\nand incentives for retirees. The country has a\ngrowing expat community, a modern infrastructure,\nand a relatively low cost of living. 6. **Spain**:\nSpain is a popular choice for Europeans and\nAmericans alike, with its rich culture, beautiful\ncities, and Mediterranean coastline. The country\nhas a relatively low cost of living and a warm\nclimate. 7. **New Zealand**: If you're looking for\na more adventurous retirement, New Zealand offers\na stunning natural beauty, outdoor activities, and\na relaxed lifestyle. The country has a relatively\nhigh cost of living, but it's considered a great\nplace to live. 8. **Colombia**: Colombia has\nundergone significant transformation in recent\nyears and is now a popular destination for\nretirees. The country offers a relatively low cost\nof living, a vibrant culture, and a growing expat\ncommunity. 9. **Ecuador**: Ecuador is known for\nits affordable cost of living, rich culture, and\nstunning natural beauty. The country has a growing\nexpat community, particularly in Cuenca and Quito.\n10. **Hawaii, USA**: If you want to stay within\nthe United States, Hawaii is a popular retirement\ndestination, with its stunning natural beauty,\nwarm climate, and relaxed lifestyle. However, it's\nalso one of the most expensive states to live in.\nWhen choosing a retirement destination, consider\nfactors such as:  * Cost of living * Healthcare\nand medical facilities * Language and cultural\nadaptability * Climate and lifestyle * Community\nand social activities * Tax implications * Visa\nrequirements and residency rules  Remember to\nresearch thoroughly and consider visiting each\nplace before making a decision. It's also\nessential to consult with a financial advisor and\ntax professional to ensure a smooth transition to\nyour new retirement home."
                },
                "metadata": {}
              }
            ]
          }
        },
        "71d4bee8cb3049c6a0b1f21248042617": {
          "model_module": "@jupyter-widgets/base",
          "model_name": "LayoutModel",
          "model_module_version": "1.2.0",
          "state": {
            "_model_module": "@jupyter-widgets/base",
            "_model_module_version": "1.2.0",
            "_model_name": "LayoutModel",
            "_view_count": null,
            "_view_module": "@jupyter-widgets/base",
            "_view_module_version": "1.2.0",
            "_view_name": "LayoutView",
            "align_content": null,
            "align_items": null,
            "align_self": null,
            "border": null,
            "bottom": null,
            "display": null,
            "flex": null,
            "flex_flow": null,
            "grid_area": null,
            "grid_auto_columns": null,
            "grid_auto_flow": null,
            "grid_auto_rows": null,
            "grid_column": null,
            "grid_gap": null,
            "grid_row": null,
            "grid_template_areas": null,
            "grid_template_columns": null,
            "grid_template_rows": null,
            "height": null,
            "justify_content": null,
            "justify_items": null,
            "left": null,
            "margin": null,
            "max_height": null,
            "max_width": null,
            "min_height": null,
            "min_width": null,
            "object_fit": null,
            "object_position": null,
            "order": null,
            "overflow": null,
            "overflow_x": null,
            "overflow_y": null,
            "padding": null,
            "right": null,
            "top": null,
            "visibility": null,
            "width": null
          }
        },
        "bed955ceed9f4b4ba2a8d298f544e8d5": {
          "model_module": "@jupyter-widgets/controls",
          "model_name": "LabelModel",
          "model_module_version": "1.5.0",
          "state": {
            "_dom_classes": [],
            "_model_module": "@jupyter-widgets/controls",
            "_model_module_version": "1.5.0",
            "_model_name": "LabelModel",
            "_view_count": null,
            "_view_module": "@jupyter-widgets/controls",
            "_view_module_version": "1.5.0",
            "_view_name": "LabelView",
            "description": "",
            "description_tooltip": null,
            "layout": "IPY_MODEL_37d199e0392744539ce1cb6c86e83acc",
            "placeholder": "​",
            "style": "IPY_MODEL_3f66da96d7a04d8085ddd7a1d46941fe",
            "value": "Loading..."
          }
        },
        "37d199e0392744539ce1cb6c86e83acc": {
          "model_module": "@jupyter-widgets/base",
          "model_name": "LayoutModel",
          "model_module_version": "1.2.0",
          "state": {
            "_model_module": "@jupyter-widgets/base",
            "_model_module_version": "1.2.0",
            "_model_name": "LayoutModel",
            "_view_count": null,
            "_view_module": "@jupyter-widgets/base",
            "_view_module_version": "1.2.0",
            "_view_name": "LayoutView",
            "align_content": null,
            "align_items": null,
            "align_self": null,
            "border": null,
            "bottom": null,
            "display": null,
            "flex": null,
            "flex_flow": null,
            "grid_area": null,
            "grid_auto_columns": null,
            "grid_auto_flow": null,
            "grid_auto_rows": null,
            "grid_column": null,
            "grid_gap": null,
            "grid_row": null,
            "grid_template_areas": null,
            "grid_template_columns": null,
            "grid_template_rows": null,
            "height": null,
            "justify_content": null,
            "justify_items": null,
            "left": null,
            "margin": null,
            "max_height": null,
            "max_width": null,
            "min_height": null,
            "min_width": null,
            "object_fit": null,
            "object_position": null,
            "order": null,
            "overflow": null,
            "overflow_x": null,
            "overflow_y": null,
            "padding": null,
            "right": null,
            "top": null,
            "visibility": null,
            "width": null
          }
        },
        "3f66da96d7a04d8085ddd7a1d46941fe": {
          "model_module": "@jupyter-widgets/controls",
          "model_name": "DescriptionStyleModel",
          "model_module_version": "1.5.0",
          "state": {
            "_model_module": "@jupyter-widgets/controls",
            "_model_module_version": "1.5.0",
            "_model_name": "DescriptionStyleModel",
            "_view_count": null,
            "_view_module": "@jupyter-widgets/base",
            "_view_module_version": "1.2.0",
            "_view_name": "StyleView",
            "description_width": ""
          }
        },
        "c6a40c6564304b5d9df2aa40ce1ae750": {
          "model_module": "@jupyter-widgets/controls",
          "model_name": "TextModel",
          "model_module_version": "1.5.0",
          "state": {
            "_dom_classes": [],
            "_model_module": "@jupyter-widgets/controls",
            "_model_module_version": "1.5.0",
            "_model_name": "TextModel",
            "_view_count": null,
            "_view_module": "@jupyter-widgets/controls",
            "_view_module_version": "1.5.0",
            "_view_name": "TextView",
            "continuous_update": true,
            "description": "Prompt:",
            "description_tooltip": null,
            "disabled": false,
            "layout": "IPY_MODEL_566e5ba3d9ea4b0bac36d0f538c03a4c",
            "placeholder": "Type your prompt here...",
            "style": "IPY_MODEL_e3b1e60703e4458aa8be848d1d1678d3",
            "value": "yes"
          }
        },
        "566e5ba3d9ea4b0bac36d0f538c03a4c": {
          "model_module": "@jupyter-widgets/base",
          "model_name": "LayoutModel",
          "model_module_version": "1.2.0",
          "state": {
            "_model_module": "@jupyter-widgets/base",
            "_model_module_version": "1.2.0",
            "_model_name": "LayoutModel",
            "_view_count": null,
            "_view_module": "@jupyter-widgets/base",
            "_view_module_version": "1.2.0",
            "_view_name": "LayoutView",
            "align_content": null,
            "align_items": null,
            "align_self": null,
            "border": null,
            "bottom": null,
            "display": null,
            "flex": null,
            "flex_flow": null,
            "grid_area": null,
            "grid_auto_columns": null,
            "grid_auto_flow": null,
            "grid_auto_rows": null,
            "grid_column": null,
            "grid_gap": null,
            "grid_row": null,
            "grid_template_areas": null,
            "grid_template_columns": null,
            "grid_template_rows": null,
            "height": null,
            "justify_content": null,
            "justify_items": null,
            "left": null,
            "margin": null,
            "max_height": null,
            "max_width": null,
            "min_height": null,
            "min_width": null,
            "object_fit": null,
            "object_position": null,
            "order": null,
            "overflow": null,
            "overflow_x": null,
            "overflow_y": null,
            "padding": null,
            "right": null,
            "top": null,
            "visibility": null,
            "width": null
          }
        },
        "e3b1e60703e4458aa8be848d1d1678d3": {
          "model_module": "@jupyter-widgets/controls",
          "model_name": "DescriptionStyleModel",
          "model_module_version": "1.5.0",
          "state": {
            "_model_module": "@jupyter-widgets/controls",
            "_model_module_version": "1.5.0",
            "_model_name": "DescriptionStyleModel",
            "_view_count": null,
            "_view_module": "@jupyter-widgets/base",
            "_view_module_version": "1.2.0",
            "_view_name": "StyleView",
            "description_width": ""
          }
        },
        "694f7c6fabbe47f8a55d2dcb9a259618": {
          "model_module": "@jupyter-widgets/output",
          "model_name": "OutputModel",
          "model_module_version": "1.0.0",
          "state": {
            "_dom_classes": [],
            "_model_module": "@jupyter-widgets/output",
            "_model_module_version": "1.0.0",
            "_model_name": "OutputModel",
            "_view_count": null,
            "_view_module": "@jupyter-widgets/output",
            "_view_module_version": "1.0.0",
            "_view_name": "OutputView",
            "layout": "IPY_MODEL_091de1202c1f42e58294f51d7dc1a496",
            "msg_id": "",
            "outputs": [
              {
                "output_type": "display_data",
                "data": {
                  "text/plain": "<IPython.core.display.Markdown object>",
                  "text/markdown": "A simple but enthusiastic \"yes\"!"
                },
                "metadata": {}
              }
            ]
          }
        },
        "091de1202c1f42e58294f51d7dc1a496": {
          "model_module": "@jupyter-widgets/base",
          "model_name": "LayoutModel",
          "model_module_version": "1.2.0",
          "state": {
            "_model_module": "@jupyter-widgets/base",
            "_model_module_version": "1.2.0",
            "_model_name": "LayoutModel",
            "_view_count": null,
            "_view_module": "@jupyter-widgets/base",
            "_view_module_version": "1.2.0",
            "_view_name": "LayoutView",
            "align_content": null,
            "align_items": null,
            "align_self": null,
            "border": null,
            "bottom": null,
            "display": null,
            "flex": null,
            "flex_flow": null,
            "grid_area": null,
            "grid_auto_columns": null,
            "grid_auto_flow": null,
            "grid_auto_rows": null,
            "grid_column": null,
            "grid_gap": null,
            "grid_row": null,
            "grid_template_areas": null,
            "grid_template_columns": null,
            "grid_template_rows": null,
            "height": null,
            "justify_content": null,
            "justify_items": null,
            "left": null,
            "margin": null,
            "max_height": null,
            "max_width": null,
            "min_height": null,
            "min_width": null,
            "object_fit": null,
            "object_position": null,
            "order": null,
            "overflow": null,
            "overflow_x": null,
            "overflow_y": null,
            "padding": null,
            "right": null,
            "top": null,
            "visibility": null,
            "width": null
          }
        },
        "ea05048a2be04ff396dccdfa0839af04": {
          "model_module": "@jupyter-widgets/controls",
          "model_name": "LabelModel",
          "model_module_version": "1.5.0",
          "state": {
            "_dom_classes": [],
            "_model_module": "@jupyter-widgets/controls",
            "_model_module_version": "1.5.0",
            "_model_name": "LabelModel",
            "_view_count": null,
            "_view_module": "@jupyter-widgets/controls",
            "_view_module_version": "1.5.0",
            "_view_name": "LabelView",
            "description": "",
            "description_tooltip": null,
            "layout": "IPY_MODEL_df68828a608f427382019c07685ced2b",
            "placeholder": "​",
            "style": "IPY_MODEL_43056857432049a1a545c190afa39623",
            "value": "Loading..."
          }
        },
        "df68828a608f427382019c07685ced2b": {
          "model_module": "@jupyter-widgets/base",
          "model_name": "LayoutModel",
          "model_module_version": "1.2.0",
          "state": {
            "_model_module": "@jupyter-widgets/base",
            "_model_module_version": "1.2.0",
            "_model_name": "LayoutModel",
            "_view_count": null,
            "_view_module": "@jupyter-widgets/base",
            "_view_module_version": "1.2.0",
            "_view_name": "LayoutView",
            "align_content": null,
            "align_items": null,
            "align_self": null,
            "border": null,
            "bottom": null,
            "display": null,
            "flex": null,
            "flex_flow": null,
            "grid_area": null,
            "grid_auto_columns": null,
            "grid_auto_flow": null,
            "grid_auto_rows": null,
            "grid_column": null,
            "grid_gap": null,
            "grid_row": null,
            "grid_template_areas": null,
            "grid_template_columns": null,
            "grid_template_rows": null,
            "height": null,
            "justify_content": null,
            "justify_items": null,
            "left": null,
            "margin": null,
            "max_height": null,
            "max_width": null,
            "min_height": null,
            "min_width": null,
            "object_fit": null,
            "object_position": null,
            "order": null,
            "overflow": null,
            "overflow_x": null,
            "overflow_y": null,
            "padding": null,
            "right": null,
            "top": null,
            "visibility": null,
            "width": null
          }
        },
        "43056857432049a1a545c190afa39623": {
          "model_module": "@jupyter-widgets/controls",
          "model_name": "DescriptionStyleModel",
          "model_module_version": "1.5.0",
          "state": {
            "_model_module": "@jupyter-widgets/controls",
            "_model_module_version": "1.5.0",
            "_model_name": "DescriptionStyleModel",
            "_view_count": null,
            "_view_module": "@jupyter-widgets/base",
            "_view_module_version": "1.2.0",
            "_view_name": "StyleView",
            "description_width": ""
          }
        },
        "a6e3b6e36e6d47cc93221303d23b6edb": {
          "model_module": "@jupyter-widgets/controls",
          "model_name": "TextModel",
          "model_module_version": "1.5.0",
          "state": {
            "_dom_classes": [],
            "_model_module": "@jupyter-widgets/controls",
            "_model_module_version": "1.5.0",
            "_model_name": "TextModel",
            "_view_count": null,
            "_view_module": "@jupyter-widgets/controls",
            "_view_module_version": "1.5.0",
            "_view_name": "TextView",
            "continuous_update": true,
            "description": "Prompt:",
            "description_tooltip": null,
            "disabled": false,
            "layout": "IPY_MODEL_b14e31c596714b9db9ba1414a5ba675c",
            "placeholder": "Type your prompt here...",
            "style": "IPY_MODEL_a5cbc9324e0749b7817aa1c84978f19c",
            "value": ""
          }
        },
        "b14e31c596714b9db9ba1414a5ba675c": {
          "model_module": "@jupyter-widgets/base",
          "model_name": "LayoutModel",
          "model_module_version": "1.2.0",
          "state": {
            "_model_module": "@jupyter-widgets/base",
            "_model_module_version": "1.2.0",
            "_model_name": "LayoutModel",
            "_view_count": null,
            "_view_module": "@jupyter-widgets/base",
            "_view_module_version": "1.2.0",
            "_view_name": "LayoutView",
            "align_content": null,
            "align_items": null,
            "align_self": null,
            "border": null,
            "bottom": null,
            "display": null,
            "flex": null,
            "flex_flow": null,
            "grid_area": null,
            "grid_auto_columns": null,
            "grid_auto_flow": null,
            "grid_auto_rows": null,
            "grid_column": null,
            "grid_gap": null,
            "grid_row": null,
            "grid_template_areas": null,
            "grid_template_columns": null,
            "grid_template_rows": null,
            "height": null,
            "justify_content": null,
            "justify_items": null,
            "left": null,
            "margin": null,
            "max_height": null,
            "max_width": null,
            "min_height": null,
            "min_width": null,
            "object_fit": null,
            "object_position": null,
            "order": null,
            "overflow": null,
            "overflow_x": null,
            "overflow_y": null,
            "padding": null,
            "right": null,
            "top": null,
            "visibility": null,
            "width": null
          }
        },
        "a5cbc9324e0749b7817aa1c84978f19c": {
          "model_module": "@jupyter-widgets/controls",
          "model_name": "DescriptionStyleModel",
          "model_module_version": "1.5.0",
          "state": {
            "_model_module": "@jupyter-widgets/controls",
            "_model_module_version": "1.5.0",
            "_model_name": "DescriptionStyleModel",
            "_view_count": null,
            "_view_module": "@jupyter-widgets/base",
            "_view_module_version": "1.2.0",
            "_view_name": "StyleView",
            "description_width": ""
          }
        },
        "b5ab842cefe546c9a1e751c1bbb40ec4": {
          "model_module": "@jupyter-widgets/output",
          "model_name": "OutputModel",
          "model_module_version": "1.0.0",
          "state": {
            "_dom_classes": [],
            "_model_module": "@jupyter-widgets/output",
            "_model_module_version": "1.0.0",
            "_model_name": "OutputModel",
            "_view_count": null,
            "_view_module": "@jupyter-widgets/output",
            "_view_module_version": "1.0.0",
            "_view_name": "OutputView",
            "layout": "IPY_MODEL_73b5f5d6c803452b9bccc3f7455b93eb",
            "msg_id": "",
            "outputs": [
              {
                "output_type": "display_data",
                "data": {
                  "text/plain": "<IPython.core.display.Markdown object>",
                  "text/markdown": "As a Democrat, you may want to consider states\nthat align with your political values and have a\nmore liberal-leaning environment. Here are some of\nthe best states for Democrats to consider:  1.\n\\*\\*Washington\\*\\*: Washington state is known for\nits liberal leanings, with a strong Democratic\npresence in the state legislature and a high\npercentage of voters who support the party.\nSeattle is a hub for tech and entrepreneurship,\nwith a thriving cultural scene. 2. \\*\\*Oregon\\*\\*:\nOregon is another state with a strong liberal\npresence, with a Democratic governor and a\nmajority of Democratic representatives in the\nstate legislature. Portland is a popular\ndestination, with a vibrant cultural scene and a\nstrong sense of community. 3. \\*\\*Minnesota\\*\\*:\nMinnesota is a bellwether state with a strong\nDemocratic presence, with a Democratic governor\nand a majority of Democratic representatives in\nthe state legislature. The Twin Cities\n(Minneapolis and St. Paul) are hubs for\nhealthcare, finance, and technology. 4.\n\\*\\*California\\*\\*: As the most populous state in\nthe country, California is a key battleground for\nDemocrats, with a strong presence in the state\nlegislature and a high percentage of voters who\nsupport the party. The state is also home to many\ntech companies and startups. 5. \\*\\*New York\\*\\*:\nNew York is a critical state for Democrats, with a\nstrong presence in the state legislature and a\nhigh percentage of voters who support the party.\nThe state is home to many major cities, including\nNew York City, which is a hub for finance, media,\nand culture. 6. \\*\\*Massachusetts\\*\\*:\nMassachusetts is another key battleground state\nfor Democrats, with a strong presence in the state\nlegislature and a high percentage of voters who\nsupport the party. The state is home to many major\ncities, including Boston, which is a hub for\neducation, healthcare, and biotech. 7.\n\\*\\*Colorado\\*\\*: Colorado is a swing state that\nhas trended more Democratic in recent years, with\na Democratic governor and a majority of Democratic\nrepresentatives in the state legislature. The\nstate is home to many outdoor recreation\nopportunities and a thriving tech industry. 8.\n\\*\\*New Jersey\\*\\*: New Jersey is another key\nbattleground state for Democrats, with a strong\npresence in the state legislature and a high\npercentage of voters who support the party. The\nstate is home to many major cities, including\nNewark, which is a hub for finance and healthcare.\n9. \\*\\*Illinois\\*\\*: Illinois is a critical state\nfor Democrats, with a strong presence in the state\nlegislature and a high percentage of voters who\nsupport the party. The state is home to many major\ncities, including Chicago, which is a hub for\nfinance, media, and culture. 10.\n\\*\\*Connecticut\\*\\*: Connecticut is a swing state\nthat has trended more Democratic in recent years,\nwith a Democratic governor and a majority of\nDemocratic representatives in the state\nlegislature. The state is home to many major\ncities, including Hartford, which is a hub for\ninsurance and finance.  Keep in mind that these\nare just a few examples of states that may be a\ngood fit for Democrats. Ultimately, the best state\nfor you will depend on your individual preferences\nand priorities."
                },
                "metadata": {}
              }
            ]
          }
        },
        "73b5f5d6c803452b9bccc3f7455b93eb": {
          "model_module": "@jupyter-widgets/base",
          "model_name": "LayoutModel",
          "model_module_version": "1.2.0",
          "state": {
            "_model_module": "@jupyter-widgets/base",
            "_model_module_version": "1.2.0",
            "_model_name": "LayoutModel",
            "_view_count": null,
            "_view_module": "@jupyter-widgets/base",
            "_view_module_version": "1.2.0",
            "_view_name": "LayoutView",
            "align_content": null,
            "align_items": null,
            "align_self": null,
            "border": null,
            "bottom": null,
            "display": null,
            "flex": null,
            "flex_flow": null,
            "grid_area": null,
            "grid_auto_columns": null,
            "grid_auto_flow": null,
            "grid_auto_rows": null,
            "grid_column": null,
            "grid_gap": null,
            "grid_row": null,
            "grid_template_areas": null,
            "grid_template_columns": null,
            "grid_template_rows": null,
            "height": null,
            "justify_content": null,
            "justify_items": null,
            "left": null,
            "margin": null,
            "max_height": null,
            "max_width": null,
            "min_height": null,
            "min_width": null,
            "object_fit": null,
            "object_position": null,
            "order": null,
            "overflow": null,
            "overflow_x": null,
            "overflow_y": null,
            "padding": null,
            "right": null,
            "top": null,
            "visibility": null,
            "width": null
          }
        },
        "021b5713c904422396a17421b34a7103": {
          "model_module": "@jupyter-widgets/controls",
          "model_name": "LabelModel",
          "model_module_version": "1.5.0",
          "state": {
            "_dom_classes": [],
            "_model_module": "@jupyter-widgets/controls",
            "_model_module_version": "1.5.0",
            "_model_name": "LabelModel",
            "_view_count": null,
            "_view_module": "@jupyter-widgets/controls",
            "_view_module_version": "1.5.0",
            "_view_name": "LabelView",
            "description": "",
            "description_tooltip": null,
            "layout": "IPY_MODEL_5b3b743efca54c86aec9d8650514ffae",
            "placeholder": "​",
            "style": "IPY_MODEL_179baf7b9246418f90059ff5e44ca511",
            "value": "Loading..."
          }
        },
        "5b3b743efca54c86aec9d8650514ffae": {
          "model_module": "@jupyter-widgets/base",
          "model_name": "LayoutModel",
          "model_module_version": "1.2.0",
          "state": {
            "_model_module": "@jupyter-widgets/base",
            "_model_module_version": "1.2.0",
            "_model_name": "LayoutModel",
            "_view_count": null,
            "_view_module": "@jupyter-widgets/base",
            "_view_module_version": "1.2.0",
            "_view_name": "LayoutView",
            "align_content": null,
            "align_items": null,
            "align_self": null,
            "border": null,
            "bottom": null,
            "display": null,
            "flex": null,
            "flex_flow": null,
            "grid_area": null,
            "grid_auto_columns": null,
            "grid_auto_flow": null,
            "grid_auto_rows": null,
            "grid_column": null,
            "grid_gap": null,
            "grid_row": null,
            "grid_template_areas": null,
            "grid_template_columns": null,
            "grid_template_rows": null,
            "height": null,
            "justify_content": null,
            "justify_items": null,
            "left": null,
            "margin": null,
            "max_height": null,
            "max_width": null,
            "min_height": null,
            "min_width": null,
            "object_fit": null,
            "object_position": null,
            "order": null,
            "overflow": null,
            "overflow_x": null,
            "overflow_y": null,
            "padding": null,
            "right": null,
            "top": null,
            "visibility": null,
            "width": null
          }
        },
        "179baf7b9246418f90059ff5e44ca511": {
          "model_module": "@jupyter-widgets/controls",
          "model_name": "DescriptionStyleModel",
          "model_module_version": "1.5.0",
          "state": {
            "_model_module": "@jupyter-widgets/controls",
            "_model_module_version": "1.5.0",
            "_model_name": "DescriptionStyleModel",
            "_view_count": null,
            "_view_module": "@jupyter-widgets/base",
            "_view_module_version": "1.2.0",
            "_view_name": "StyleView",
            "description_width": ""
          }
        }
      }
    }
  },
  "cells": [
    {
      "cell_type": "markdown",
      "metadata": {
        "id": "view-in-github",
        "colab_type": "text"
      },
      "source": [
        "<a href=\"https://colab.research.google.com/github/RudyMartin/yelp/blob/main/chatapi_blockchain_example.ipynb\" target=\"_parent\"><img src=\"https://colab.research.google.com/assets/colab-badge.svg\" alt=\"Open In Colab\"/></a>"
      ]
    },
    {
      "cell_type": "markdown",
      "source": [
        "# ChatAPI Blockchain Example"
      ],
      "metadata": {
        "id": "5wdpNpViGDX2"
      }
    },
    {
      "cell_type": "markdown",
      "source": [
        "## 1. Generate your Akash Chat API key\n",
        "\n",
        "https://chatapi.akash.network/"
      ],
      "metadata": {
        "id": "Btwj3OkHFyB8"
      }
    },
    {
      "cell_type": "code",
      "execution_count": null,
      "metadata": {
        "colab": {
          "base_uri": "https://localhost:8080/"
        },
        "id": "KnH-FiKbuEBA",
        "outputId": "f514bb0b-245b-4b38-a843-e09debe819fc"
      },
      "outputs": [
        {
          "output_type": "stream",
          "name": "stdout",
          "text": [
            "Collecting openai\n",
            "  Downloading openai-1.36.0-py3-none-any.whl (328 kB)\n",
            "\u001b[2K     \u001b[90m━━━━━━━━━━━━━━━━━━━━━━━━━━━━━━━━━━━━━━━━\u001b[0m \u001b[32m328.7/328.7 kB\u001b[0m \u001b[31m6.0 MB/s\u001b[0m eta \u001b[36m0:00:00\u001b[0m\n",
            "\u001b[?25hRequirement already satisfied: anyio<5,>=3.5.0 in /usr/local/lib/python3.10/dist-packages (from openai) (3.7.1)\n",
            "Requirement already satisfied: distro<2,>=1.7.0 in /usr/lib/python3/dist-packages (from openai) (1.7.0)\n",
            "Collecting httpx<1,>=0.23.0 (from openai)\n",
            "  Downloading httpx-0.27.0-py3-none-any.whl (75 kB)\n",
            "\u001b[2K     \u001b[90m━━━━━━━━━━━━━━━━━━━━━━━━━━━━━━━━━━━━━━━━\u001b[0m \u001b[32m75.6/75.6 kB\u001b[0m \u001b[31m8.5 MB/s\u001b[0m eta \u001b[36m0:00:00\u001b[0m\n",
            "\u001b[?25hRequirement already satisfied: pydantic<3,>=1.9.0 in /usr/local/lib/python3.10/dist-packages (from openai) (2.8.2)\n",
            "Requirement already satisfied: sniffio in /usr/local/lib/python3.10/dist-packages (from openai) (1.3.1)\n",
            "Requirement already satisfied: tqdm>4 in /usr/local/lib/python3.10/dist-packages (from openai) (4.66.4)\n",
            "Requirement already satisfied: typing-extensions<5,>=4.7 in /usr/local/lib/python3.10/dist-packages (from openai) (4.12.2)\n",
            "Requirement already satisfied: idna>=2.8 in /usr/local/lib/python3.10/dist-packages (from anyio<5,>=3.5.0->openai) (3.7)\n",
            "Requirement already satisfied: exceptiongroup in /usr/local/lib/python3.10/dist-packages (from anyio<5,>=3.5.0->openai) (1.2.2)\n",
            "Requirement already satisfied: certifi in /usr/local/lib/python3.10/dist-packages (from httpx<1,>=0.23.0->openai) (2024.7.4)\n",
            "Collecting httpcore==1.* (from httpx<1,>=0.23.0->openai)\n",
            "  Downloading httpcore-1.0.5-py3-none-any.whl (77 kB)\n",
            "\u001b[2K     \u001b[90m━━━━━━━━━━━━━━━━━━━━━━━━━━━━━━━━━━━━━━━━\u001b[0m \u001b[32m77.9/77.9 kB\u001b[0m \u001b[31m7.9 MB/s\u001b[0m eta \u001b[36m0:00:00\u001b[0m\n",
            "\u001b[?25hCollecting h11<0.15,>=0.13 (from httpcore==1.*->httpx<1,>=0.23.0->openai)\n",
            "  Downloading h11-0.14.0-py3-none-any.whl (58 kB)\n",
            "\u001b[2K     \u001b[90m━━━━━━━━━━━━━━━━━━━━━━━━━━━━━━━━━━━━━━━━\u001b[0m \u001b[32m58.3/58.3 kB\u001b[0m \u001b[31m5.9 MB/s\u001b[0m eta \u001b[36m0:00:00\u001b[0m\n",
            "\u001b[?25hRequirement already satisfied: annotated-types>=0.4.0 in /usr/local/lib/python3.10/dist-packages (from pydantic<3,>=1.9.0->openai) (0.7.0)\n",
            "Requirement already satisfied: pydantic-core==2.20.1 in /usr/local/lib/python3.10/dist-packages (from pydantic<3,>=1.9.0->openai) (2.20.1)\n",
            "Installing collected packages: h11, httpcore, httpx, openai\n",
            "Successfully installed h11-0.14.0 httpcore-1.0.5 httpx-0.27.0 openai-1.36.0\n",
            "\u001b[31mERROR: Could not find a version that satisfies the requirement textwrap (from versions: none)\u001b[0m\u001b[31m\n",
            "\u001b[0m\u001b[31mERROR: No matching distribution found for textwrap\u001b[0m\u001b[31m\n",
            "\u001b[0m"
          ]
        }
      ],
      "source": [
        "!pip install openai\n",
        "!pip install textwrap"
      ]
    },
    {
      "cell_type": "markdown",
      "source": [
        "Simple call and response"
      ],
      "metadata": {
        "id": "CoL-z0K9yMBk"
      }
    },
    {
      "cell_type": "code",
      "source": [
        "import openai\n",
        "import textwrap\n",
        "client = openai.OpenAI(\n",
        "    api_key=\"\",\n",
        "    base_url=\"https://chatapi.akash.network/api/v1\"\n",
        ")\n",
        "\n",
        "response = client.chat.completions.create(\n",
        "    model=\"Meta-Llama-3-1-8B-Instruct-FP8\",\n",
        "    messages = [\n",
        "        {\n",
        "            \"role\": \"user\",\n",
        "            \"content\": \"Who are you?\"\n",
        "        }\n",
        "    ],\n",
        ")\n",
        "\n",
        "print(textwrap.fill(response.choices[0].message.content, 50))"
      ],
      "metadata": {
        "colab": {
          "base_uri": "https://localhost:8080/"
        },
        "id": "7cWOcE3uuFAe",
        "outputId": "63010861-5c8f-44a8-945a-18c95ac4e0d9"
      },
      "execution_count": 1,
      "outputs": [
        {
          "output_type": "stream",
          "name": "stdout",
          "text": [
            "I'm an artificial intelligence model known as a\n",
            "Large Language Model (LLM). I'm a type of computer\n",
            "program designed to process and generate human-\n",
            "like language. My primary function is to assist\n",
            "and communicate with users through text-based\n",
            "conversations.  I was trained on a massive dataset\n",
            "of text from various sources, including books,\n",
            "articles, and online content. This training allows\n",
            "me to understand and respond to a wide range of\n",
            "questions, topics, and language patterns.  I don't\n",
            "have personal experiences, emotions, or\n",
            "consciousness like humans do. I exist solely to\n",
            "provide information, answer questions, and engage\n",
            "in conversations to the best of my abilities based\n",
            "on my training and knowledge.  Feel free to ask me\n",
            "anything, and I'll do my best to help!\n"
          ]
        }
      ]
    },
    {
      "cell_type": "markdown",
      "source": [
        "Add a prompt box for API input"
      ],
      "metadata": {
        "id": "0frN2-nsyR9w"
      }
    },
    {
      "cell_type": "code",
      "source": [
        "import openai\n",
        "import textwrap\n",
        "import ipywidgets as widgets\n",
        "from IPython.display import display\n",
        "\n",
        "# Set up the API client\n",
        "client = openai.OpenAI(\n",
        "    api_key=\"\",\n",
        "    base_url=\"https://chatapi.akash.network/api/v1\"\n",
        ")\n",
        "\n",
        "# Create the widgets\n",
        "prompt_input = widgets.Text(\n",
        "    value='',\n",
        "    placeholder='Type your prompt here...',\n",
        "    description='Prompt:',\n",
        "    disabled=False\n",
        ")\n",
        "\n",
        "output_area = widgets.Output()\n",
        "\n",
        "# Define the function to handle the prompt submission\n",
        "def handle_submit(sender):\n",
        "    with output_area:\n",
        "        output_area.clear_output()\n",
        "        response = client.chat.completions.create(\n",
        "            model=\"llama3-8b\",\n",
        "            messages=[\n",
        "                {\n",
        "                    \"role\": \"user\",\n",
        "                    \"content\": prompt_input.value\n",
        "                }\n",
        "            ],\n",
        "        )\n",
        "        print(textwrap.fill(response.choices[0].message.content, 50))\n",
        "\n",
        "# Link the prompt input to the function\n",
        "prompt_input.on_submit(handle_submit)\n",
        "\n",
        "# Display the widgets\n",
        "display(prompt_input, output_area)"
      ],
      "metadata": {
        "colab": {
          "base_uri": "https://localhost:8080/",
          "height": 245,
          "referenced_widgets": [
            "90a59d7e55d94e05a29aab2011e96428",
            "cba4c30545a44f7285543f6e7c4de31a",
            "99b0e94120854410bf416510a737bfa4",
            "e2ed686a41914542a096c40ddd44cae4",
            "fd5b1a42af144b12bc130eb3477684af"
          ]
        },
        "id": "cYPux9YJu5zC",
        "outputId": "e28a05b2-d523-4476-a3d3-5e7ea0334e5d"
      },
      "execution_count": null,
      "outputs": [
        {
          "output_type": "display_data",
          "data": {
            "text/plain": [
              "Text(value='', description='Prompt:', placeholder='Type your prompt here...')"
            ],
            "application/vnd.jupyter.widget-view+json": {
              "version_major": 2,
              "version_minor": 0,
              "model_id": "90a59d7e55d94e05a29aab2011e96428"
            }
          },
          "metadata": {}
        },
        {
          "output_type": "display_data",
          "data": {
            "text/plain": [
              "Output()"
            ],
            "application/vnd.jupyter.widget-view+json": {
              "version_major": 2,
              "version_minor": 0,
              "model_id": "e2ed686a41914542a096c40ddd44cae4"
            }
          },
          "metadata": {}
        }
      ]
    },
    {
      "cell_type": "markdown",
      "source": [
        "Read the response in a separate UI box"
      ],
      "metadata": {
        "id": "yaZgneaKyX_b"
      }
    },
    {
      "cell_type": "code",
      "source": [
        "import openai\n",
        "import textwrap\n",
        "import ipywidgets as widgets\n",
        "from IPython.display import display\n",
        "\n",
        "# Set up the API client\n",
        "client = openai.OpenAI(\n",
        "    api_key=\"\",\n",
        "    base_url=\"https://chatapi.akash.network/api/v1\"\n",
        ")\n",
        "\n",
        "# Create the widgets\n",
        "prompt_input = widgets.Text(\n",
        "    value='',\n",
        "    placeholder='Type your prompt here...',\n",
        "    description='Prompt:',\n",
        "    disabled=False\n",
        ")\n",
        "\n",
        "response_output = widgets.Textarea(\n",
        "    value='',\n",
        "    placeholder='Response will appear here...',\n",
        "    description='Response:',\n",
        "    disabled=True,\n",
        "    layout=widgets.Layout(width='100%', height='200px')\n",
        ")\n",
        "\n",
        "# Define the function to handle the prompt submission\n",
        "def handle_submit(sender):\n",
        "    response = client.chat.completions.create(\n",
        "        model=\"llama3-8b\",\n",
        "        messages=[\n",
        "            {\n",
        "                \"role\": \"user\",\n",
        "                \"content\": prompt_input.value\n",
        "            }\n",
        "        ],\n",
        "    )\n",
        "    formatted_response = textwrap.fill(response.choices[0].message.content, 50)\n",
        "    response_output.value = formatted_response\n",
        "\n",
        "# Link the prompt input to the function\n",
        "prompt_input.on_submit(handle_submit)\n",
        "\n",
        "# Display the widgets\n",
        "display(prompt_input, response_output)"
      ],
      "metadata": {
        "colab": {
          "base_uri": "https://localhost:8080/",
          "height": 271,
          "referenced_widgets": [
            "81bbe96ee61d487f895ca7a625a1b919",
            "33b6a571ab6941af868e193dd669dcbc",
            "312050c8341841f6b0f8fcb32df005cf",
            "d535879e08b54286bbfee08b0a36c311",
            "b0ce67459fbd454284adc484f1748d2c",
            "0e7ddd736ee64f179d1af98f8d973cc0"
          ]
        },
        "id": "q8lxn7C9vaLy",
        "outputId": "0b213f74-2df6-482d-8939-f90b8e6dc4c6"
      },
      "execution_count": null,
      "outputs": [
        {
          "output_type": "display_data",
          "data": {
            "text/plain": [
              "Text(value='', description='Prompt:', placeholder='Type your prompt here...')"
            ],
            "application/vnd.jupyter.widget-view+json": {
              "version_major": 2,
              "version_minor": 0,
              "model_id": "81bbe96ee61d487f895ca7a625a1b919"
            }
          },
          "metadata": {}
        },
        {
          "output_type": "display_data",
          "data": {
            "text/plain": [
              "Textarea(value='', description='Response:', disabled=True, layout=Layout(height='200px', width='100%'), placeh…"
            ],
            "application/vnd.jupyter.widget-view+json": {
              "version_major": 2,
              "version_minor": 0,
              "model_id": "d535879e08b54286bbfee08b0a36c311"
            }
          },
          "metadata": {}
        }
      ]
    },
    {
      "cell_type": "markdown",
      "source": [
        "Read Markdown"
      ],
      "metadata": {
        "id": "p76eGHDGyrEN"
      }
    },
    {
      "cell_type": "code",
      "source": [
        "import openai\n",
        "import textwrap\n",
        "import ipywidgets as widgets\n",
        "from IPython.display import display, Markdown\n",
        "\n",
        "# Set up the API client\n",
        "client = openai.OpenAI(\n",
        "    api_key=\"\",\n",
        "    base_url=\"https://chatapi.akash.network/api/v1\"\n",
        ")\n",
        "\n",
        "# Create the widgets\n",
        "prompt_input = widgets.Text(\n",
        "    value='',\n",
        "    placeholder='Type your prompt here...',\n",
        "    description='Prompt:',\n",
        "    disabled=False\n",
        ")\n",
        "\n",
        "response_output = widgets.Output()\n",
        "\n",
        "loading = widgets.Label(\"Loading...\")\n",
        "\n",
        "# Define the function to handle the prompt submission\n",
        "def handle_submit(sender):\n",
        "    with response_output:\n",
        "        response_output.clear_output()\n",
        "        display(loading)\n",
        "    response = client.chat.completions.create(\n",
        "        model=\"llama3-8b\",\n",
        "        messages=[\n",
        "            {\n",
        "                \"role\": \"user\",\n",
        "                \"content\": prompt_input.value\n",
        "            }\n",
        "        ],\n",
        "    )\n",
        "    formatted_response = textwrap.fill(response.choices[0].message.content, 50)\n",
        "    with response_output:\n",
        "        response_output.clear_output()\n",
        "        display(Markdown(formatted_response))\n",
        "\n",
        "# Link the prompt input to the function\n",
        "prompt_input.on_submit(handle_submit)\n",
        "\n",
        "# Display the widgets\n",
        "display(prompt_input, response_output)\n"
      ],
      "metadata": {
        "colab": {
          "base_uri": "https://localhost:8080/",
          "height": 428,
          "referenced_widgets": [
            "fad071982ff447b2a3214284c099b333",
            "00ae1ba2a26a4e0fac03e39c1a0021e4",
            "6193e8863caf46fd95dc169633f451a8",
            "327df8f588624262825078a57e114257",
            "71d4bee8cb3049c6a0b1f21248042617",
            "bed955ceed9f4b4ba2a8d298f544e8d5",
            "37d199e0392744539ce1cb6c86e83acc",
            "3f66da96d7a04d8085ddd7a1d46941fe"
          ]
        },
        "id": "C99nb12wwcfF",
        "outputId": "f6e1c23a-ee7f-4644-ae3a-bfef2d9a6afc"
      },
      "execution_count": null,
      "outputs": [
        {
          "output_type": "display_data",
          "data": {
            "text/plain": [
              "Text(value='', description='Prompt:', placeholder='Type your prompt here...')"
            ],
            "application/vnd.jupyter.widget-view+json": {
              "version_major": 2,
              "version_minor": 0,
              "model_id": "fad071982ff447b2a3214284c099b333"
            }
          },
          "metadata": {}
        },
        {
          "output_type": "display_data",
          "data": {
            "text/plain": [
              "Output()"
            ],
            "application/vnd.jupyter.widget-view+json": {
              "version_major": 2,
              "version_minor": 0,
              "model_id": "327df8f588624262825078a57e114257"
            }
          },
          "metadata": {}
        }
      ]
    },
    {
      "cell_type": "markdown",
      "source": [
        "Add Loading and Scrub for Markdown"
      ],
      "metadata": {
        "id": "JOsR44KqzG1_"
      }
    },
    {
      "cell_type": "code",
      "source": [
        "import openai\n",
        "import textwrap\n",
        "import ipywidgets as widgets\n",
        "from IPython.display import display, Markdown\n",
        "import re\n",
        "\n",
        "# Set up the API client\n",
        "client = openai.OpenAI(\n",
        "    api_key=\"\",\n",
        "    base_url=\"https://chatapi.akash.network/api/v1\"\n",
        ")\n",
        "\n",
        "# Create the widgets\n",
        "prompt_input = widgets.Text(\n",
        "    value='',\n",
        "    placeholder='Type your prompt here...',\n",
        "    description='Prompt:',\n",
        "    disabled=False\n",
        ")\n",
        "\n",
        "response_output = widgets.Output()\n",
        "\n",
        "loading = widgets.Label(\"Loading...\")\n",
        "\n",
        "# Function to sanitize markdown content\n",
        "def sanitize_markdown(text):\n",
        "    # Escape backticks, asterisks, underscores, and brackets\n",
        "  ##  text = re.sub(r'([`*_])', r'\\\\\\1', text)\n",
        "  ##  text = re.sub(r'(\\[|\\])', r'\\\\\\1', text)\n",
        "    return text\n",
        "\n",
        "# Define the function to handle the prompt submission\n",
        "def handle_submit(sender):\n",
        "    with response_output:\n",
        "        response_output.clear_output()\n",
        "        display(loading)\n",
        "    response = client.chat.completions.create(\n",
        "        model=\"llama3-8b\",\n",
        "        messages=[\n",
        "            {\n",
        "                \"role\": \"user\",\n",
        "                \"content\": prompt_input.value\n",
        "            }\n",
        "        ],\n",
        "    )\n",
        "    raw_response = response.choices[0].message.content\n",
        "    sanitized_response = sanitize_markdown(raw_response)\n",
        "    formatted_response = textwrap.fill(sanitized_response, 50)\n",
        "    with response_output:\n",
        "        response_output.clear_output()\n",
        "        display(Markdown(formatted_response))\n",
        "\n",
        "# Link the prompt input to the function\n",
        "prompt_input.on_submit(handle_submit)\n",
        "\n",
        "# Display the widgets\n",
        "display(prompt_input, response_output)\n"
      ],
      "metadata": {
        "colab": {
          "base_uri": "https://localhost:8080/",
          "height": 76,
          "referenced_widgets": [
            "c6a40c6564304b5d9df2aa40ce1ae750",
            "566e5ba3d9ea4b0bac36d0f538c03a4c",
            "e3b1e60703e4458aa8be848d1d1678d3",
            "694f7c6fabbe47f8a55d2dcb9a259618",
            "091de1202c1f42e58294f51d7dc1a496",
            "ea05048a2be04ff396dccdfa0839af04",
            "df68828a608f427382019c07685ced2b",
            "43056857432049a1a545c190afa39623"
          ]
        },
        "id": "6CC1N_VlxD6a",
        "outputId": "7298c401-36a0-4392-b605-829b9c872747"
      },
      "execution_count": null,
      "outputs": [
        {
          "output_type": "display_data",
          "data": {
            "text/plain": [
              "Text(value='', description='Prompt:', placeholder='Type your prompt here...')"
            ],
            "application/vnd.jupyter.widget-view+json": {
              "version_major": 2,
              "version_minor": 0,
              "model_id": "c6a40c6564304b5d9df2aa40ce1ae750"
            }
          },
          "metadata": {}
        },
        {
          "output_type": "display_data",
          "data": {
            "text/plain": [
              "Output()"
            ],
            "application/vnd.jupyter.widget-view+json": {
              "version_major": 2,
              "version_minor": 0,
              "model_id": "694f7c6fabbe47f8a55d2dcb9a259618"
            }
          },
          "metadata": {}
        }
      ]
    },
    {
      "cell_type": "markdown",
      "source": [
        "Multi-turn response Sequence"
      ],
      "metadata": {
        "id": "XBUOTwQGy0fC"
      }
    },
    {
      "cell_type": "code",
      "source": [
        "import openai\n",
        "import textwrap\n",
        "import ipywidgets as widgets\n",
        "from IPython.display import display, Markdown\n",
        "import re\n",
        "\n",
        "# Set up the API client\n",
        "client = openai.OpenAI(\n",
        "    api_key=\"\",\n",
        "    base_url=\"https://chatapi.akash.network/api/v1\"\n",
        ")\n",
        "\n",
        "# Create the widgets\n",
        "prompt_input = widgets.Text(\n",
        "    value='',\n",
        "    placeholder='Type your prompt here...',\n",
        "    description='Prompt:',\n",
        "    disabled=False\n",
        ")\n",
        "\n",
        "response_output = widgets.Output()\n",
        "\n",
        "loading = widgets.Label(\"Loading...\")\n",
        "\n",
        "# Initialize chat history\n",
        "chat_history = []\n",
        "\n",
        "# Function to sanitize markdown content\n",
        "def sanitize_markdown(text):\n",
        "    # Escape backticks, asterisks, underscores, and brackets\n",
        "    text = re.sub(r'([`*_])', r'\\\\\\1', text)\n",
        "    text = re.sub(r'(\\[|\\])', r'\\\\\\1', text)\n",
        "    return text\n",
        "\n",
        "# Define the function to handle the prompt submission\n",
        "def handle_submit(sender):\n",
        "    user_message = prompt_input.value\n",
        "    chat_history.append({\"role\": \"user\", \"content\": user_message})\n",
        "\n",
        "    with response_output:\n",
        "        response_output.clear_output()\n",
        "        display(loading)\n",
        "\n",
        "    response = client.chat.completions.create(\n",
        "        model=\"llama3-8b\",\n",
        "        messages=chat_history,\n",
        "    )\n",
        "\n",
        "    bot_message = response.choices[0].message.content\n",
        "    chat_history.append({\"role\": \"assistant\", \"content\": bot_message})\n",
        "\n",
        "    sanitized_response = sanitize_markdown(bot_message)\n",
        "    formatted_response = textwrap.fill(sanitized_response, 50)\n",
        "\n",
        "    with response_output:\n",
        "        response_output.clear_output()\n",
        "        display(Markdown(formatted_response))\n",
        "\n",
        "    prompt_input.value = ''\n",
        "\n",
        "# Link the prompt input to the function\n",
        "prompt_input.on_submit(handle_submit)\n",
        "\n",
        "# Display the widgets\n",
        "display(prompt_input, response_output)"
      ],
      "metadata": {
        "colab": {
          "base_uri": "https://localhost:8080/",
          "height": 428,
          "referenced_widgets": [
            "a6e3b6e36e6d47cc93221303d23b6edb",
            "b14e31c596714b9db9ba1414a5ba675c",
            "a5cbc9324e0749b7817aa1c84978f19c",
            "b5ab842cefe546c9a1e751c1bbb40ec4",
            "73b5f5d6c803452b9bccc3f7455b93eb",
            "021b5713c904422396a17421b34a7103",
            "5b3b743efca54c86aec9d8650514ffae",
            "179baf7b9246418f90059ff5e44ca511"
          ]
        },
        "id": "fTNaW-RtxrrX",
        "outputId": "5a2dabc7-3d48-46df-bd52-4dbb4eda9eca"
      },
      "execution_count": null,
      "outputs": [
        {
          "output_type": "display_data",
          "data": {
            "text/plain": [
              "Text(value='', description='Prompt:', placeholder='Type your prompt here...')"
            ],
            "application/vnd.jupyter.widget-view+json": {
              "version_major": 2,
              "version_minor": 0,
              "model_id": "a6e3b6e36e6d47cc93221303d23b6edb"
            }
          },
          "metadata": {}
        },
        {
          "output_type": "display_data",
          "data": {
            "text/plain": [
              "Output()"
            ],
            "application/vnd.jupyter.widget-view+json": {
              "version_major": 2,
              "version_minor": 0,
              "model_id": "b5ab842cefe546c9a1e751c1bbb40ec4"
            }
          },
          "metadata": {}
        }
      ]
    }
  ]
}